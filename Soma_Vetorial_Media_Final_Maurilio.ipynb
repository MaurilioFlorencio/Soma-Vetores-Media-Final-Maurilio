{
  "nbformat": 4,
  "nbformat_minor": 0,
  "metadata": {
    "colab": {
      "provenance": [],
      "authorship_tag": "ABX9TyOF1/Qys2jkR0u6jCyu+7Ib",
      "include_colab_link": true
    },
    "kernelspec": {
      "name": "python3",
      "display_name": "Python 3"
    },
    "language_info": {
      "name": "python"
    }
  },
  "cells": [
    {
      "cell_type": "markdown",
      "metadata": {
        "id": "view-in-github",
        "colab_type": "text"
      },
      "source": [
        "<a href=\"https://colab.research.google.com/github/MaurilioFlorencio/Soma-Vetores-Media-Final-Maurilio/blob/main/Soma_Vetorial_Media_Final_Maurilio.ipynb\" target=\"_parent\"><img src=\"https://colab.research.google.com/assets/colab-badge.svg\" alt=\"Open In Colab\"/></a>"
      ]
    },
    {
      "cell_type": "markdown",
      "source": [
        "Crie dos vetores/semestres com 4 notas cada; \n",
        "Imprima a média final do estudante."
      ],
      "metadata": {
        "id": "PxZ-JDu2MwZC"
      }
    },
    {
      "cell_type": "code",
      "execution_count": 7,
      "metadata": {
        "colab": {
          "base_uri": "https://localhost:8080/"
        },
        "id": "FWL5UQkdMr0S",
        "outputId": "90f2ef52-28db-4a57-ef03-40b7ac2c71f4"
      },
      "outputs": [
        {
          "output_type": "stream",
          "name": "stdout",
          "text": [
            "6.5\n"
          ]
        }
      ],
      "source": [
        "semestre1 = [10 , 9 , 4, 7]\n",
        "semestre2 = [5, 6 , 3 , 8]\n",
        "mediaSemestre1 = sum(semestre1)/len(semestre1)\n",
        "mediaSemestre2 = sum(semestre2)/len(semestre2)\n",
        "mediaFinal = (mediaSemestre1 + mediaSemestre2) / 2\n",
        "print(mediaFinal) "
      ]
    }
  ]
}